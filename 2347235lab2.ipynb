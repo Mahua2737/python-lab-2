{
 "cells": [
  {
   "cell_type": "code",
   "execution_count": 2,
   "metadata": {},
   "outputs": [
    {
     "name": "stdout",
     "output_type": "stream",
     "text": [
      "['Patient']\n",
      "['Psychologist', 'Patient']\n",
      "['Psychologist', 'Patient', 'anxiety', 'stress', 'depression']\n"
     ]
    }
   ],
   "source": [
    "\"\"\"Domain: Mental health Care\"\"\"\n",
    "\n",
    "\n",
    "\"\"\"Create a LIST with your domain attributes\"\"\"\n",
    "domain_list = []\n",
    "\n",
    "\n",
    "\"\"\"insert the elements using the append (), insert(), extend()\"\"\"\n",
    "domain_list.append(\"Patient\")\n",
    "print(domain_list)\n",
    "\n",
    "domain_list.insert(0, \"Psychologist\")\n",
    "print(domain_list)\n",
    "\n",
    "\"\"\" extend() and add any iterables (tuples, sets, dictionaries etc.) to the list\"\"\"\n",
    "condition = {\"depression\", \"stress\", \"anxiety\"}\n",
    "domain_list.extend(condition)\n",
    "print(domain_list)\n"
   ]
  },
  {
   "cell_type": "code",
   "execution_count": 3,
   "metadata": {},
   "outputs": [
    {
     "name": "stdout",
     "output_type": "stream",
     "text": [
      "List Before Swapping: [4, 5, 3, 2, 8, 9, 1]\n",
      "List Before Swapping: [1, 5, 3, 2, 8, 9, 4]\n"
     ]
    }
   ],
   "source": [
    "\"\"\"Create a list with numeric and perform the following operations\"\"\"\n",
    "numeric_list = [4,5,3,2,8,9,1]\n",
    "\n",
    "\n",
    "'''Write a program to swap the first and last elements in a list.'''\n",
    "print('List Before Swapping: {}'.format(numeric_list))\n",
    "temp = numeric_list[-1]\n",
    "numeric_list[-1] = numeric_list[0]\n",
    "numeric_list[0] = temp\n",
    "print('List Before Swapping: {}'.format(numeric_list))\n"
   ]
  },
  {
   "cell_type": "code",
   "execution_count": 4,
   "metadata": {},
   "outputs": [
    {
     "name": "stdout",
     "output_type": "stream",
     "text": [
      "Sum Of item: 32\n"
     ]
    }
   ],
   "source": [
    "'''Write a program to find the sum of the digits in a list'''\n",
    "sum = 0\n",
    "for item in numeric_list:\n",
    "    sum += item\n",
    "print(\"Sum Of item: {}\".format(sum))"
   ]
  },
  {
   "cell_type": "code",
   "execution_count": 5,
   "metadata": {},
   "outputs": [
    {
     "name": "stdout",
     "output_type": "stream",
     "text": [
      "The smallest element in the list is: 1\n"
     ]
    }
   ],
   "source": [
    "'''Write a program to find the smallest element in a list'''\n",
    "small = numeric_list[0]\n",
    "for item in numeric_list:\n",
    "    if(item < small):\n",
    "        small = item\n",
    "print(\"The smallest element in the list is: {}\".format(small))"
   ]
  },
  {
   "cell_type": "code",
   "execution_count": 6,
   "metadata": {},
   "outputs": [
    {
     "name": "stdout",
     "output_type": "stream",
     "text": [
      "Dictionary before sorting: {'condition2': {'Gloomy', 'insomnia'}, 'condition3': {'Heart palpitation'}, 'condition1': {'irritation', 'anger'}}\n",
      "Dictionary After sorting: {'condition1': {'irritation', 'anger'}, 'condition2': {'Gloomy', 'insomnia'}, 'condition3': {'Heart palpitation'}}\n"
     ]
    }
   ],
   "source": [
    "\"\"\"Sort the dictionaries in ascending order based on the Key of the dictionary\"\"\"\n",
    "dictTest = {\n",
    "    \"condition2\": {\"Gloomy\", \"insomnia\"},\n",
    "    \"condition3\": {\"Heart palpitation\"},\n",
    "    \"condition1\": {\"irritation\", \"anger\"},\n",
    "\n",
    "}\n",
    "\n",
    "print(\"Dictionary before sorting: {}\".format(dictTest))\n",
    "sorted_list_of_keys = sorted(dictTest)\n",
    "\n",
    "new_dict = {}\n",
    "\n",
    "for item in sorted_list_of_keys:\n",
    "    new_dict[item] = dictTest[item]\n",
    "\n",
    "print(\"Dictionary After sorting: {}\".format(new_dict))"
   ]
  },
  {
   "cell_type": "code",
   "execution_count": 7,
   "metadata": {},
   "outputs": [
    {
     "name": "stdout",
     "output_type": "stream",
     "text": [
      "The sum of the values is: 39\n"
     ]
    }
   ],
   "source": [
    "\"\"\"Create the dictionary with Numeric as Value in Key - Value pair and find the sum of all the values in the Dictionary.\"\"\"\n",
    "dictTest2 = {\"value1\": 4, \"value2\": 6, \"value3\": 5, \"value4\": 15, \"value5\": 9}\n",
    "total = 0\n",
    "for i in dictTest2.values():\n",
    "    total += i\n",
    "\n",
    "print(\"The sum of the values is: {}\".format(total))"
   ]
  },
  {
   "cell_type": "code",
   "execution_count": null,
   "metadata": {},
   "outputs": [],
   "source": [
    "\"\"\"Write a Python code to demonstrate the sorting in descending order of values with lambda function\"\"\"\n",
    "l1 = [\"Hello\", \"My\", \"is\", \"Mahua\", \"Saikia\", \"reg\", \"2347235\", \"1MCAB\"]\n",
    "x = lambda list_to_be_sorted : sorted(list_to_be_sorted, reverse=True)\n",
    "print(x(l1))"
   ]
  }
 ],
 "metadata": {
  "kernelspec": {
   "display_name": "Python 3",
   "language": "python",
   "name": "python3"
  },
  "language_info": {
   "codemirror_mode": {
    "name": "ipython",
    "version": 3
   },
   "file_extension": ".py",
   "mimetype": "text/x-python",
   "name": "python",
   "nbconvert_exporter": "python",
   "pygments_lexer": "ipython3",
   "version": "3.10.8"
  },
  "orig_nbformat": 4
 },
 "nbformat": 4,
 "nbformat_minor": 2
}
